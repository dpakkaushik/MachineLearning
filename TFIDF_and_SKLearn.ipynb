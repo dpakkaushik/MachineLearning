{
  "nbformat": 4,
  "nbformat_minor": 0,
  "metadata": {
    "colab": {
      "name": "TFIDF and SKLearn Assignment Solution.ipynb",
      "provenance": [],
      "collapsed_sections": [],
      "include_colab_link": true
    },
    "kernelspec": {
      "name": "python3",
      "display_name": "Python 3"
    },
    "language_info": {
      "name": "python"
    }
  },
  "cells": [
    {
      "cell_type": "markdown",
      "metadata": {
        "id": "view-in-github",
        "colab_type": "text"
      },
      "source": [
        "<a href=\"https://colab.research.google.com/github/dpakkaushik/MachineLearning/blob/main/TFIDF_and_SKLearn.ipynb\" target=\"_parent\"><img src=\"https://colab.research.google.com/assets/colab-badge.svg\" alt=\"Open In Colab\"/></a>"
      ]
    },
    {
      "cell_type": "markdown",
      "metadata": {
        "id": "gZuT6j-N2PMo"
      },
      "source": [
        "<font face='georgia'>\n",
        "    \n",
        "   <h4><strong>What does tf-idf mean?</strong></h4>\n",
        "\n",
        "   <p>    \n",
        "Tf-idf stands for <em>term frequency-inverse document frequency</em>, and the tf-idf weight is a weight often used in information retrieval and text mining. This weight is a statistical measure used to evaluate how important a word is to a document in a collection or corpus. The importance increases proportionally to the number of times a word appears in the document but is offset by the frequency of the word in the corpus. Variations of the tf-idf weighting scheme are often used by search engines as a central tool in scoring and ranking a document's relevance given a user query.\n",
        "</p>\n",
        "    \n",
        "   <p>\n",
        "One of the simplest ranking functions is computed by summing the tf-idf for each query term; many more sophisticated ranking functions are variants of this simple model.\n",
        "</p>\n",
        "    \n",
        "   <p>\n",
        "Tf-idf can be successfully used for stop-words filtering in various subject fields including text summarization and classification.\n",
        "</p>\n",
        "    \n",
        "</font>"
      ]
    },
    {
      "cell_type": "markdown",
      "metadata": {
        "id": "12fhwXQ72S5V"
      },
      "source": [
        "<font face='georgia'>\n",
        "    <h4><strong>How to Compute:</strong></h4>\n",
        "\n",
        "Typically, the tf-idf weight is composed by two terms: the first computes the normalized Term Frequency (TF), aka. the number of times a word appears in a document, divided by the total number of words in that document; the second term is the Inverse Document Frequency (IDF), computed as the logarithm of the number of the documents in the corpus divided by the number of documents where the specific term appears.\n",
        "\n",
        " <ul>\n",
        "    <li>\n",
        "<strong>TF:</strong> Term Frequency, which measures how frequently a term occurs in a document. Since every document is different in length, it is possible that a term would appear much more times in long documents than shorter ones. Thus, the term frequency is often divided by the document length (aka. the total number of terms in the document) as a way of normalization: <br>\n",
        "\n",
        "$TF(t) = \\frac{\\text{Number of times term t appears in a document}}{\\text{Total number of terms in the document}}.$\n",
        "</li>\n",
        "<li>\n",
        "<strong>IDF:</strong> Inverse Document Frequency, which measures how important a term is. While computing TF, all terms are considered equally important. However it is known that certain terms, such as \"is\", \"of\", and \"that\", may appear a lot of times but have little importance. Thus we need to weigh down the frequent terms while scale up the rare ones, by computing the following: <br>\n",
        "\n",
        "$IDF(t) = \\log_{e}\\frac{\\text{Total  number of documents}} {\\text{Number of documents with term t in it}}.$\n",
        "for numerical stabiltiy we will be changing this formula little bit\n",
        "$IDF(t) = \\log_{e}\\frac{\\text{Total  number of documents}} {\\text{Number of documents with term t in it}+1}.$\n",
        "</li>\n",
        "</ul>\n",
        "\n",
        "<br>\n",
        "<h4><strong>Example</strong></h4>\n",
        "<p>\n",
        "\n",
        "Consider a document containing 100 words wherein the word cat appears 3 times. The term frequency (i.e., tf) for cat is then (3 / 100) = 0.03. Now, assume we have 10 million documents and the word cat appears in one thousand of these. Then, the inverse document frequency (i.e., idf) is calculated as log(10,000,000 / 1,000) = 4. Thus, the Tf-idf weight is the product of these quantities: 0.03 * 4 = 0.12.\n",
        "</p>\n",
        "</font>"
      ]
    },
    {
      "cell_type": "markdown",
      "metadata": {
        "id": "gJ1-fWSs2Y3j"
      },
      "source": [
        "<font face='georgia'>\n",
        "    <h4><strong>Building a TFIDF Vectorizer & comparing its results with Sklearn:</strong></h4>\n",
        "\n",
        "<ul>\n",
        "    <li> As a part of this task you will be implementing TFIDF vectorizer on a collection of text documents.</li>\n",
        "    <br>\n",
        "    <li> You should compare the results of your own implementation of TFIDF vectorizer with that of sklearns implemenation TFIDF vectorizer.</li>\n",
        "    <br>\n",
        "    <li> Sklearn does few more tweaks in the implementation of its version of TFIDF vectorizer, so to replicate the exact results you would need to add following things to your custom implementation of tfidf vectorizer:\n",
        "       <ol>\n",
        "        <li> Sklearn has its vocabulary generated from idf sroted in alphabetical order</li>\n",
        "        <li> Sklearn formula of idf is different from the standard textbook formula. Here the constant <strong>\"1\"</strong> is added to both the numerator and denominator of the idf as if an extra document was seen containing every term in the collection exactly once. This is done to avoid divison-by-zero and log(0) ( = undefined) errors.\n",
        "            \n",
        " $IDF(t) = 1+\\log_{e}\\frac{1\\text{ }+\\text{ Total  number of documents in collection}} {1+\\text{Number of documents with term t in it}}.$\n",
        "        </li>\n",
        "        <li> Sklearn applies row-wise L2-normalization on its output matrix. This is primiarly to convert each data point vector to a unit vector. This is done as we often use cosine similarity between such high-dimensional vectors. </li>\n",
        "        <li> The final output of sklearn tfidf vectorizer is a sparse matrix.</li>\n",
        "        <li> Sklearn TfidfVectorizer documentation https://scikit-learn.org/stable/modules/generated/sklearn.feature_extraction.text.TfidfVectorizer.html\n",
        "        </li>\n",
        "    </ol>\n",
        "    <br>\n",
        "    <li>Steps to approach this task:\n",
        "    <ol>\n",
        "        <li> You would have to write both fit and transform methods for your custom implementation of tfidf vectorizer.</li>\n",
        "        <li> Print out the alphabetically sorted voacb after you fit your data and check if its the same as that of the feature names from sklearn tfidf vectorizer. </li>\n",
        "        <li> Print out the idf values from your implementation and check if its the same as that of sklearns tfidf vectorizer idf values. </li>\n",
        "        <li> Once you get your voacb and idf values to be same as that of sklearns implementation of tfidf vectorizer, proceed to the below steps. </li>\n",
        "        <li> Make sure the output of your implementation is a sparse matrix. Before generating the final output, you need to normalize your sparse matrix using L2 normalization. You can refer to this link https://scikit-learn.org/stable/modules/generated/sklearn.preprocessing.normalize.html </li>\n",
        "        <li> After completing the above steps, print the output of your custom implementation and compare it with sklearns implementation of tfidf vectorizer.</li>\n",
        "        <li> To check the output of a single document in your collection of documents,  you can convert the sparse matrix related only to that document into dense matrix and print it.</li>\n",
        "        </ol>\n",
        "    </li>\n",
        "    <br>\n",
        "   </ul>\n",
        "   "
      ]
    },
    {
      "cell_type": "markdown",
      "metadata": {
        "id": "Y7jZXuV9J0rA"
      },
      "source": [
        "<font face='georgia'>\n",
        "    <h4><strong>Normalisation in SkLearn:</strong></h4>\n",
        "\n",
        "<ul>\n",
        "  <li>There are two possible ways, Row-wise normalisation and Column-wise normalisation.</li>\n",
        "\n",
        "<li>That can be done with parameter <strong>axis=0 or axis=1</strong></li>\n",
        "</ui>\n",
        "\n",
        "Below is a reference image:\n",
        "\n",
        "![image.png](data:image/png;base64,iVBORw0KGgoAAAANSUhEUgAAAXkAAACdCAYAAABRoQgdAAASZklEQVR4Ae2d3XHrOAxGtybX4y48qcK3iriEPKQBP21BmZ2dndEOKVECKYKWFMmSwPOQiUPqhwQ+HEC0Q//VNE3z33//Nf/880/z8/PDDzZAA2gADRjSwF///vsvDjXkUBI1hQoaQANSA3/JP3iNONAAGkADtjQA5KnieZJDA2jAsAaAvGHnUpHZqsjwJ/5cogEgD+Sp4tAAGjCsASBv2LlLsj7nUC2iAVsaAPJAnioODaABwxoA8oadS0VmqyLDn/hziQaAPJCnikMDaMCwBoC8YecuyfqcQ7WIBmxpAMgDeao4NIAGDGtgFuSfz2fDDzZAA+fXANW6rWq95E8gT+IicVeogRIU6LOVAIB8hQFOJX7+Svy3PgTktkBe8ieQB/JU8hVqoAQF+mwlACBfYYD/tgrk/PM/CQByWyAv+RPIA3kq+Qo1UIICfbYSwCLIf/+5NpePB3B4Ixyweal6fjS3y7W5f5WOsd33+Lg01z/fk2MSkNsCecmfQP6NoP7NMgeQL0EayAP5eqBdAnquD8gD+cnV32+S1LbnAnkgD+RzgHdtMyD/d3O7XJrL6Gd4TPbVpui/fQ7VV6nv+XmLrhs9dpb6ni64xZiu9+a7h/Z3c7+KvsuteUzqezalsZb61p9HMr9+rsHmpTluNI+izZPxbuyP1Be9NsNS4mLtLJ3HRjbX5vF1b669JmKtf/VaH2JQJloNCLTbSxYzIP/TV3w+uEIgvRCTFBav8wE3xS7YvGQ7B+WQ+ErH2e2jkrcH57USLpA/SZIC8iVAA3kgD+S1pADkgXz/hDblieKYxwB5IA/kV4X8MQO9VOnRh8/QgNSABgTa7SWLRZW8FAuvgQcaOJ8GgLk9mGs+BfInWa4BpOcD6ZF9pgGBdnvwB/JA3sCaPAlgbkIB5vZgrvkUyAN5IF+hBjQg0G4P/kC+wgCfW/VxvL0nBWBuD+aaT4E8kKeSr1ADGhBotwf/RZB3/5gTbT1QYZC8u7rF5qVq2n1OXm5bUTrWZp/7nLzcRuSVPoG5PZhrPgXyJ0lQQL4EZyAP5OuBtgZzrR3IVwx5v1XCZV4F+KpC3Kd/Xcg7YPabnbkNwKKN1krJZr8+IA/kgfxJYK5Bcv1K3u1geWsebofD0282tz7kh+XIdqfPOUshmg+3bAfyQB7IA/n4DVa3Ta2H+7qA3BJk+rXXnYMDZgz54+9wCeSBPJAH8hHk3ZNBqE7nAkKH7V7LFetDXi7XDMDfa36v7zvXhxoQaLeXLFiTPwn8112ucVAU1enpl2zWh/wA9na5Zvj7NXD3SIJA3h6c10q4QL5GyCffNNRWrWf+COKWkO++7eng71sAeSCvJQUgXyHkHRDSynQuJPaoVvV7bgl5KnkNHrSfI7EA+eognyzVdPP3H6c8wUcF86BfH/KsyZ8DYCSa134C8tVB/phrynl4Tx3rupD/3Vimjnnd4+Y+iQHH13C0YiMgD+SjT92cEXDPJ5AH8vVAe27yAfJAHsifRAOlBAzkgbwG/0WQL4mNvnUfw7En9txCAxoQaLeXLIC8gSpuCwhwTdvJBZjbg7nmUyAP5A0s19gG8hYJVwMC7fbgD+SBPJCvUAPA3B7MNZ8C+QoDfIvKkGue62lCAwLt9uAP5IE8lXyFGgDm9mCu+RTIVxjgVN3nqrq38JcGBNrtwX8R5P2/wB98w6YtAmPPa2LzEpjzWzXs6a+j3xuY24O55lMgf5JKHsgD+TUThwYE2u3BH8gDeQNr8lTycxMAMLcHc82nMyD/d3NzX2o8+hm+fMJXm6I/fPOQE2Cp75nsbx5tg1vq83uWiDFFuyi2W8QO45X7pZf6ymN97zwcvMT8+tfB5jvMo2jzZLwb+yP1Re/rsJS4WDtL53Ek7ZSefJ6NBgTa7cF/BuR/+orPB1cIpJNUwnMrnaMdj81L0KKSn6tXYG4P5ppPgfxJkhSQB/JzQV46XgMC7fbgD+SBfP+EVoLCsfuo5Of6B5jbg7nm00WQnysoji9VofShj/drQAMC7fbgD+RPUskDwveD0LLNgbk9mGs+BfJA3sByDQlgbkLSgEC7PfgDeSAP5CvUADC3B3PNp0C+wgCfW/VxPE8KaOCYGtDALtuBPJCnkkcDaOCkGpAw114D+ZM6l8rqmJUVfsEv79SABnbZvgjy7h9zoq0HAOXmlRA2L8HDfU5ebltROtZm3+Pj0shtRN4JGu61n6YkzLXXQP4kCQrIlwIJyNuAfLcXU7TnUcnv9Glgl+3VQt5vExA2/DqBqBZB/uveXMMcL2FTs4mBITf3iuwTb4o2fqJzwA2bqol7RmO5NJfomuONvdLrRv4a7Zu0DPL9NZOxFCtTaZdunlEFHfXLp4vYbpfUH5F9hN2e6Xlj27nxAnlN14MeIz+dpLgravE5baO5OiHvAlEEtg/2ETg00ezTPh/yTtwCFh4iEjr6PFr45Y+NxuGvmd5jyrJBC64+6Nx1hD+efqfL4f4OYNJfY+HPh7y/5sej3R01urduF3/fRDvxWOJxhHvEx7TXjzXn7DHY0ff1Y0pspcDJBuRf2F6Ze86+vq3XZwv6Xm9zr/Om450P0+JGnVs3Jlmxa68rhHwaNO3fl4Ov6UZwnSC6GCJDpfxa6DFwyiKLbTl9jEkC6rYvDgKPIReDMz+eKcfkARLfK39MdM8i5JPzC8cWAzpKyLGNo7EIHRwF8t6e/ZOchFYL2osoptyY++TtbBXOE8eE+fpjQ78sXoQNwrHj3+29X2s/8d+ka695TseizPzHc2rvq4FdtlcIeefwUDUF58u2NZ223rWmA7S9p4SID5CPh3+kDyDVRPPsAHP/cy0GnT8/B6M/coloqMbd8RIA43F0AneBLEXegfLugNAF+fhc57/4Xur8ksBdBPkeNgJSyXXd/aUPBnt18+gr9bFG/Jh6Gwi7dPfNwcrdK9c+1Q7bHJf6JcTbs/HfIZGxQTz3zjZOZ5ljg42DLvrfo2PFfTN+2mbuY79OvY+P19Ec8teTMNde1wv5TwcjCfvwOm/MqQ7a6jgn/jHc9LG2gHk09+tQTY2gkxO8B/dwzrNbEx4DJA2cDkZCnNmA9fdsjx3m016r/Tu5TlfhDfd3x6a+cm1vgnxks26sPZAHf/i5C1ukulD7/XwLc/H96fy1NflufH1Sktct9cUJ2cFzsH+5L/0CIP29BzmWxG4je7b6GF0r8sVwjdTW7fJfPAd/TKetkBwGPXZJqLebjAd3nzCeXMIu9ZVtLsft9THS+XiOGthle4WQD4YWIosq0rEhpfH3eu2cHonwhcBbkUhht/OWwZqdS8YW4+TQCjm+Vub6Log00Lm+EMyj49z1O5CN+jL3Sdbws/NS7KXCVjk+vbY/P8yjO2faNd0chQbduW6uadtoHMI2os/5KPbHHjpOdZEZq6/Kr6LAiseZs+dg8xC7w1zdvAOk+98jzaXjiu85XP8Y7X5OoznkxyZhrr2uEPJdJSIC0xtV/H00p7vxOPHPgXxYdnkEEOQA4tvSKiWFaBKoXaWfA0oaoM6u+TG39+j70rH5e4RqNXf/BI6bQD4AJb2XDLYxPKYGaJoI/N8vAd9pNwMAd9+cT96q5chvoeIPfnR2E750Ps/MI9VQbvzumF47Qd/F32M/5a67f1unuRks0sAu26uEvHOmD8bwODbDqHsJYb6wQ2UYKp0MrLKQfzZtggjnxfCI7Bbs1wdrAGN3rrBrC7H8NZ1Ni/3dONtKTUIjANcFcWZ+hcBP7+evLcYblqlGlXU0ltg2qd1CZenh2yXH0NY/xfgxthDq+zq7tiBLbNrbOsy9/X0IyI/i6i4+NdTOUcK51VLrt6I/EpvnkkM+LnN2zekntmX+Wtsf4+wh7TNlHBLm2utqIT/FgEc6xgXBXAEcafzbjmU+5Lcdz/ZASMd/FMin4+LvbbWggV22A/lCtXckgQL5UrAAeSBf0ofdPglz7TWQB/Kb77uzfbIE8kDeLshL8aOBXbYvgnzppvTVKTb8jt/RwPs1IGGuvQbyJ6nkCaD3B5Blm2tAoN3eN0YBeSBvYLmGBDA3IQFzezDXfArkgTyQr1ADGhBotwd/IF9hgM+t+jje3pMCMLcHc82nQB7IU8lXqAENCLTbgz+QrzDAqcztVeZzfQrM7cFc8+kiyPt/QY7+BZygmRtkc4/H5iWNuc/JH/ff1ef6esnxc/8lXgMC7fbgD+RPUskDeSBfgj+QtwfntRIukAfyBtbkqeSBPJDXksIMyP8tvqB52E1QbuTvq82wM+Evvmgg2ogr2YEu6itu3p/s3hftUljqK++IWJpj+oUJ0VgXzcPBS9o6vA5LEzvMo2jzZLzRjomlsZb6dH+kvuh3cQxLiYts7p4Yls5DH6urwtPxRlsDl8aq9aU7W/ZauTVfL4oXDQi020sWMyD/01d8XqwhkF6IqfSISV9pCSLuw+axPWLtUMlTyduD81oJF8ifJEkBeSAfJ7bYHkAeyGtJAcgD+f4JrQSRY/dRyQN5IL8q5I8d8HGFw1ixBxoYa0ADAu32ksWiSp6gGQcNNsEmZ9IAMLcHc82nQP4kyzVnAghjPX7C04BAuz34A3kgb2BN/vhQPVriA+b2YK75FMgD+eogrwUD7fWAryZfA3kgD+R/gFtN0KttrkAeyAN5IN/UBr6a5gvkTwJ5989Q0TYJJxn3e9ai3efkb81jok1qCnDmylMakJ8IhvfASn8DEcjrtmn3mgHyAB2g5zQA5IG8geUaKvlccNMG9J0GgDyQB/KsybMmb1gDQB7IA3nDAU41TzUP5IE8kAfyVPKGNQDkgTyQNxzgVPJU8kAeyAN5IE8lb1gDQB7IA3nDAU4lTyUP5IE8kAfyVPKGNQDkgTyQNxzgVPJU8kAeyAN5IE8lb1gDQB7IA3nDAU4lTyUP5E8C+b33zrF0f8AH+GrSAJAH8gYq+dLmZeO+mgKcuZLQgDyQB/Is17Amb1gDQB7IA3nDAU4lTyUP5E8CefaTHy+7DO8TsNUwMAfmmgaAPJDPV/Jf9+Z6uZzk26iAvBbgtAN/IA/k3wZ59zRyuVzan+u9+V7N9kAemANzTQNAfjXQlJYTft93+uWaz1tzEWD3wP945BPMbJ8AeS3AaQf+QH42UH4P7GEtefq1lkD+8dFVzV31fPts79dW1Nfm/tXdv1uaCf3yvNA2jPm7uV/ldad8t2p7znCtcI0p506xEZAH5sBc0wCQNwz5AczP5ulAnlbS/u8UwAGqSruryLMVeAC3TACX7lgH4ZBU3OtLc/uUbeGeS38DeS3AaQf+QN4w5NuKXUI3rpxDxX79851ZNlEg31X9l0t8rSihjGzaAf3TvZkrYR9eL4V7OA/IA3NgrmkAyI+AFMBxrN+zl2s8jAVE/d8xmB3kr9drsTIfllhSeziwugQS7lGq5EOfuH9mPOVEkd5f/g3ktQCnHfgDeauQd8sqotpuq/YBsr7K98suSsX+1NolXJ+Nu66eCIZjh/u1bX482WWf4Zzp0AfywByYaxoA8lYh30E6fGTx+ufe3Drot8s4A/D9en3/mfhQdctlngHk7bmibwao20TTnTvjvNewB/JagNMO/IG8WcgvqYjPeg6QB+bAXNMAkAfymTddzwZ7IK8FOO3AH8gDeSDPBmXsQmlYA0D+JJB/vS59tup7v/FS3VLd1qQBIA/kDVTy44RRUxAzV5JWSQNAHsgDecOP6qXgp6+O5ADkgTyQB/KsyRvWAJAH8kDecIBTrddRrZf8DORPAnn3T0j5PWbG69H1vUk7/ghlSfT0Ab6aNADkgbyBSh7I1wQt5jovSQN5IA/kWa5hTd6wBoA8kAfyhgOcqnde1WvRXkAeyAN5IE8lb1gDQP7okP+8+Tdcwxuv7veUrX3rePPV7ZjpdtMMa/KP5tZ9+5XFiow5UZUv0QCQPzrk/ZbB1+b24T5dM2wXXAfEJ3xyyH8d4c1vo3wXn0BaEgycA0QtagDIHx7yDnSuUpXfwjQBfqeY1zrz6Pe4F3vUWwxW5kQSWqIBIH8WGHbLNlTwucQQlm2GviXBwDlA1KIGgPxZIM84Z71BbDFYmRNJaIkGgDzwnAXPszxJLAkGzgGiFjUA5IE8kDf88TmL0GJO85IxkAfyQB7I8zl5wxqYBXky6LwMir2wFxpAA3trAMgbzuB7i4v7Azg0sL8GgDyQ51EdDaABwxoA8oadSxW1fxWFD/DB3hoA8kCeKg4NoAHDGgDyhp27dwXB/ali0cD+GgDyQJ4qDg2gAcMaAPKGnUsVtX8VhQ/wwd4aAPJAnioODaABwxr4H/5gUGWck3coAAAAAElFTkSuQmCC)"
      ]
    },
    {
      "cell_type": "markdown",
      "metadata": {
        "id": "vLpi384jLNDY"
      },
      "source": [
        "\n",
        "\n",
        "---\n",
        "\n"
      ]
    },
    {
      "cell_type": "code",
      "metadata": {
        "id": "ajXuKus731CO"
      },
      "source": [
        "from collections import Counter\n",
        "from tqdm import tqdm\n",
        "from scipy.sparse import csr_matrix\n",
        "import math\n",
        "from sklearn.preprocessing import normalize\n",
        "import numpy as np"
      ],
      "execution_count": null,
      "outputs": []
    },
    {
      "cell_type": "code",
      "metadata": {
        "id": "EYWLazmg2Ftq"
      },
      "source": [
        "corpus = [\n",
        "     'this is the first document',\n",
        "     'this document is the second document',\n",
        "     'and this is the third one',\n",
        "     'is this the first document',\n",
        "]"
      ],
      "execution_count": null,
      "outputs": []
    },
    {
      "cell_type": "markdown",
      "metadata": {
        "id": "jPQ7u3wJ4Y-j"
      },
      "source": [
        "# Custom Implementation"
      ]
    },
    {
      "cell_type": "code",
      "metadata": {
        "id": "1F8JxXce4Gt5"
      },
      "source": [
        "class CustomTfidfVectorizer:\n",
        "    \n",
        "    \"\"\" Contains methods to implement tfidf vectorizer.\n",
        "    \n",
        "    1. Calculating term frequency values and inverse document frequency values.\n",
        "    2. Creating fit and transform methods\n",
        "    \n",
        "    \"\"\"\n",
        "    \n",
        "    def __init__(self):\n",
        "      # Initialising an empty dictionary to store all the unique words in corpus\n",
        "      # and their idf values. These unique words also form our Vocab.\n",
        "      self.vocab = {}\n",
        "\n",
        "\n",
        "    def term_freq(self, doc):\n",
        "      \n",
        "      # Splitting a sentence or a document into indiviual words\n",
        "      bow_doc = doc.split(\" \")\n",
        "      \n",
        "      # Computing the number of words in a sentence or a document\n",
        "      doc_len = len(bow_doc)\n",
        "      \n",
        "      # Calculating the frequency of each word in the document.\n",
        "      # The output of counter will be a dictionary, \n",
        "      # with word as the key and value as the frequency.\n",
        "      tf_dict = dict(Counter(bow_doc))\n",
        "      \n",
        "      # Calculating term_frequency value for each word in the doucment.\n",
        "      for key in tf_dict:\n",
        "        tf_dict[key] = (tf_dict[key]/(doc_len*1.0))\n",
        "      \n",
        "      # return tf values for words in a single document\n",
        "      return tf_dict    \n",
        "\n",
        "\n",
        "    def inv_doc_freq(self, corpus):\n",
        "      \n",
        "      # Initialising an empty dictionary to store all the unique words in the corpus,\n",
        "      # and also to store their corresponding idf values.\n",
        "      # In this dict, the words are the keys and their idf are the values of those keys.\n",
        "      idf_dict = {}\n",
        "\n",
        "      # Calculating total number of documents in the corpus\n",
        "      corpus_len = len(corpus)\n",
        "\n",
        "      for doc in corpus:\n",
        "        # Splitting a sentence or a document into indiviual words\n",
        "        bow_doc = doc.split(\" \")\n",
        "        # Creating a set of unique words in the document\n",
        "        bow_doc = set(bow_doc)\n",
        "        # Computing the number of documents in which a particular word occured\n",
        "        for word in bow_doc:\n",
        "          if word in idf_dict.keys():\n",
        "            idf_dict[word] += 1\n",
        "          else:\n",
        "            idf_dict[word] = 1\n",
        "\n",
        "      # Computing idf value for each unique word in the corpus\n",
        "      for word in idf_dict:\n",
        "        # smoothed idf formula\n",
        "        idf_dict[word] = 1 + math.log((1+corpus_len)/(1+idf_dict[word]))\n",
        "\n",
        "      # Creating a Vocabulary dictionary to have sorted vocab alphabetically along with idf values.\n",
        "      self.vocab = {key : idf_dict[key] for key in sorted(idf_dict)}\n",
        "\n",
        "\n",
        "    def fit(self, corpus):\n",
        "      # Checking if the input is of type list and then calculating idf using fit method.\n",
        "      if isinstance(corpus, (list)):\n",
        "        self.inv_doc_freq(corpus)\n",
        "      else:\n",
        "        print(\"Invalid input, please pass list of strings as input\")  \n",
        "        \n",
        "\n",
        "    def transform(self, corpus):\n",
        "      # Initialising empty lists to store the row numbers, column numbers \n",
        "      # and the values that has to be stored in that particular location (row, column)\n",
        "      # This is to create a sparse representation of a matrix\n",
        "      rows = []\n",
        "      columns = []\n",
        "      values = []\n",
        "\n",
        "      # Checking if the input corpus is of the data type list.\n",
        "      if isinstance(corpus, (list,)):\n",
        "        \n",
        "        # Enumerating through each document in the corpus.\n",
        "        # Here tqdm is used to give a rough estimate of the time.\n",
        "        for idx, doc in enumerate(tqdm(corpus)):\n",
        "\n",
        "          # Calculating term frequency values of each word in the document.\n",
        "          tf = self.term_freq(doc)\n",
        "\n",
        "          # Iterating through each key,value pairs in the dictionary returned by\n",
        "          # the term_freq function that we have built.\n",
        "          for word, freq in tf.items():\n",
        "\n",
        "            # Checking if the word is present in our vocabulary,\n",
        "            # which is generated using fit function.\n",
        "            # And then we compute the tf-idf value for the word.\n",
        "            if word in self.vocab.keys():\n",
        "\n",
        "              # Here we are multiplying the term frequency of a word with its corresponding idf value.\n",
        "              value = (freq*(self.vocab[word]))\n",
        "\n",
        "              # Since we are creating a sparse matrix, we will be storing only non zero values.\n",
        "              if value != 0:\n",
        "                col_index = list(self.vocab.keys()).index(word)\n",
        "                rows.append(idx)\n",
        "                columns.append(col_index)\n",
        "                values.append(value)\n",
        "\n",
        "        # Creating a final sparse matrix with help of scipy\n",
        "        sparse_matrix =  csr_matrix((values, (rows, columns)), shape=(len(corpus), len(self.vocab)))\n",
        "\n",
        "        # Applying L2 normalization on output\n",
        "        output = normalize(sparse_matrix, norm='l2', axis=1, copy=True, return_norm=False)\n",
        "\n",
        "        return output\n",
        "        \n",
        "      else:\n",
        "        print(\"Invalid input, please pass list of strings as input\")\n",
        "            "
      ],
      "execution_count": null,
      "outputs": []
    },
    {
      "cell_type": "code",
      "metadata": {
        "colab": {
          "base_uri": "https://localhost:8080/"
        },
        "id": "-TqDt5sW6Fb7",
        "outputId": "65cbda5a-8644-4101-85a8-60252e61c7c5"
      },
      "source": [
        "# Calling the custom written TFIDF function\n",
        "vect = CustomTfidfVectorizer()\n",
        "vect.fit(corpus)\n",
        "custom = vect.transform(corpus)"
      ],
      "execution_count": null,
      "outputs": [
        {
          "output_type": "stream",
          "text": [
            "100%|██████████| 4/4 [00:00<00:00, 1176.36it/s]\n"
          ],
          "name": "stderr"
        }
      ]
    },
    {
      "cell_type": "markdown",
      "metadata": {
        "id": "xTb8Abvp6LO-"
      },
      "source": [
        "### Custom implementation vocab and their corresponding idf values"
      ]
    },
    {
      "cell_type": "code",
      "metadata": {
        "colab": {
          "base_uri": "https://localhost:8080/"
        },
        "id": "vBlw0nug6Sa3",
        "outputId": "03d6b6ab-aa1e-4965-d498-f7f05611efe7"
      },
      "source": [
        "vect.vocab"
      ],
      "execution_count": null,
      "outputs": [
        {
          "output_type": "execute_result",
          "data": {
            "text/plain": [
              "{'and': 1.916290731874155,\n",
              " 'document': 1.2231435513142097,\n",
              " 'first': 1.5108256237659907,\n",
              " 'is': 1.0,\n",
              " 'one': 1.916290731874155,\n",
              " 'second': 1.916290731874155,\n",
              " 'the': 1.0,\n",
              " 'third': 1.916290731874155,\n",
              " 'this': 1.0}"
            ]
          },
          "metadata": {
            "tags": []
          },
          "execution_count": 5
        }
      ]
    },
    {
      "cell_type": "markdown",
      "metadata": {
        "id": "zlUfjM_Q6UvI"
      },
      "source": [
        "### Custom implementation tfidf values"
      ]
    },
    {
      "cell_type": "code",
      "metadata": {
        "colab": {
          "base_uri": "https://localhost:8080/"
        },
        "id": "7bitKN9U6aDL",
        "outputId": "0e97d670-f3fe-468a-93db-9e99c2cd491a"
      },
      "source": [
        "print(custom[0].toarray())"
      ],
      "execution_count": null,
      "outputs": [
        {
          "output_type": "stream",
          "text": [
            "[[0.         0.46979139 0.58028582 0.38408524 0.         0.\n",
            "  0.38408524 0.         0.38408524]]\n"
          ],
          "name": "stdout"
        }
      ]
    },
    {
      "cell_type": "markdown",
      "metadata": {
        "id": "zpZwipt86dcj"
      },
      "source": [
        "### Total sparse matrix of custom implementation"
      ]
    },
    {
      "cell_type": "code",
      "metadata": {
        "colab": {
          "base_uri": "https://localhost:8080/"
        },
        "id": "8FaR6QvI6grw",
        "outputId": "8ba63ea2-fe15-43ab-d2e4-fd0bfe70acfb"
      },
      "source": [
        "print(custom)"
      ],
      "execution_count": null,
      "outputs": [
        {
          "output_type": "stream",
          "text": [
            "  (0, 1)\t0.4697913855799205\n",
            "  (0, 2)\t0.580285823684436\n",
            "  (0, 3)\t0.3840852409148149\n",
            "  (0, 6)\t0.3840852409148149\n",
            "  (0, 8)\t0.3840852409148149\n",
            "  (1, 1)\t0.6876235979836937\n",
            "  (1, 3)\t0.2810886740337529\n",
            "  (1, 5)\t0.5386476208856762\n",
            "  (1, 6)\t0.2810886740337529\n",
            "  (1, 8)\t0.2810886740337529\n",
            "  (2, 0)\t0.511848512707169\n",
            "  (2, 3)\t0.267103787642168\n",
            "  (2, 4)\t0.511848512707169\n",
            "  (2, 6)\t0.267103787642168\n",
            "  (2, 7)\t0.511848512707169\n",
            "  (2, 8)\t0.267103787642168\n",
            "  (3, 1)\t0.4697913855799205\n",
            "  (3, 2)\t0.580285823684436\n",
            "  (3, 3)\t0.3840852409148149\n",
            "  (3, 6)\t0.3840852409148149\n",
            "  (3, 8)\t0.3840852409148149\n"
          ],
          "name": "stdout"
        }
      ]
    },
    {
      "cell_type": "markdown",
      "metadata": {
        "id": "sDeJMwVQ4vIL"
      },
      "source": [
        "# SkLearn Implementation"
      ]
    },
    {
      "cell_type": "code",
      "metadata": {
        "id": "odXXOJP74qNM"
      },
      "source": [
        "from sklearn.feature_extraction.text import TfidfVectorizer\n",
        "vectorizer = TfidfVectorizer()\n",
        "skl = vectorizer.fit_transform(corpus)"
      ],
      "execution_count": null,
      "outputs": []
    },
    {
      "cell_type": "markdown",
      "metadata": {
        "id": "7AOSAwx74_zN"
      },
      "source": [
        "#### SkLearn TFIDF Vectorizer Feature Names"
      ]
    },
    {
      "cell_type": "code",
      "metadata": {
        "colab": {
          "base_uri": "https://localhost:8080/"
        },
        "id": "sUl-osuh5LzN",
        "outputId": "891d3f19-bfdf-427b-e1ce-fe5aaa55417a"
      },
      "source": [
        "print(vectorizer.get_feature_names())"
      ],
      "execution_count": null,
      "outputs": [
        {
          "output_type": "stream",
          "text": [
            "['and', 'document', 'first', 'is', 'one', 'second', 'the', 'third', 'this']\n"
          ],
          "name": "stdout"
        }
      ]
    },
    {
      "cell_type": "markdown",
      "metadata": {
        "id": "HW-N1jOd5Twy"
      },
      "source": [
        "### SkLearn TFIDF Vectorizer -- IDF values"
      ]
    },
    {
      "cell_type": "code",
      "metadata": {
        "colab": {
          "base_uri": "https://localhost:8080/"
        },
        "id": "VR5Mjhh75gNo",
        "outputId": "02899230-5d07-47d0-c346-d4876ebb98ce"
      },
      "source": [
        "# sklearn idf values\n",
        "print(vectorizer.idf_)"
      ],
      "execution_count": null,
      "outputs": [
        {
          "output_type": "stream",
          "text": [
            "[1.91629073 1.22314355 1.51082562 1.         1.91629073 1.91629073\n",
            " 1.         1.91629073 1.        ]\n"
          ],
          "name": "stdout"
        }
      ]
    },
    {
      "cell_type": "markdown",
      "metadata": {
        "id": "6ExqNJpR5iO9"
      },
      "source": [
        "### SkLearn TFIDF Vectorizer -- TFIDF values"
      ]
    },
    {
      "cell_type": "code",
      "metadata": {
        "colab": {
          "base_uri": "https://localhost:8080/"
        },
        "id": "gCbxwl2B5pTR",
        "outputId": "c1a26b49-22cb-408d-a943-521d8c2f1e20"
      },
      "source": [
        "# sklearn tfidf values\n",
        "print(skl[0].toarray())"
      ],
      "execution_count": null,
      "outputs": [
        {
          "output_type": "stream",
          "text": [
            "[[0.         0.46979139 0.58028582 0.38408524 0.         0.\n",
            "  0.38408524 0.         0.38408524]]\n"
          ],
          "name": "stdout"
        }
      ]
    },
    {
      "cell_type": "markdown",
      "metadata": {
        "id": "z743WBOL6ku5"
      },
      "source": [
        "### Total sparse matrix of sklearn tfidf"
      ]
    },
    {
      "cell_type": "code",
      "metadata": {
        "colab": {
          "base_uri": "https://localhost:8080/"
        },
        "id": "c0xB4T-_6m3h",
        "outputId": "1c693e25-da21-45ba-ffe4-ccf293f468b0"
      },
      "source": [
        "print(skl)"
      ],
      "execution_count": null,
      "outputs": [
        {
          "output_type": "stream",
          "text": [
            "  (0, 1)\t0.46979138557992045\n",
            "  (0, 2)\t0.5802858236844359\n",
            "  (0, 6)\t0.38408524091481483\n",
            "  (0, 3)\t0.38408524091481483\n",
            "  (0, 8)\t0.38408524091481483\n",
            "  (1, 5)\t0.5386476208856763\n",
            "  (1, 1)\t0.6876235979836938\n",
            "  (1, 6)\t0.281088674033753\n",
            "  (1, 3)\t0.281088674033753\n",
            "  (1, 8)\t0.281088674033753\n",
            "  (2, 4)\t0.511848512707169\n",
            "  (2, 7)\t0.511848512707169\n",
            "  (2, 0)\t0.511848512707169\n",
            "  (2, 6)\t0.267103787642168\n",
            "  (2, 3)\t0.267103787642168\n",
            "  (2, 8)\t0.267103787642168\n",
            "  (3, 1)\t0.46979138557992045\n",
            "  (3, 2)\t0.5802858236844359\n",
            "  (3, 6)\t0.38408524091481483\n",
            "  (3, 3)\t0.38408524091481483\n",
            "  (3, 8)\t0.38408524091481483\n"
          ],
          "name": "stdout"
        }
      ]
    }
  ]
}